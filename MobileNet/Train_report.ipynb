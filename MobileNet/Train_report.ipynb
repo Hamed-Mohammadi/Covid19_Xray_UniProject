{
 "cells": [
  {
   "cell_type": "markdown",
   "metadata": {
    "id": "YG1SOCvJ58bm"
   },
   "source": [
    "Mohammad Mahdi Mirza Ali Mohammadi (Hamed Mohammadi)"
   ]
  },
  {
   "cell_type": "markdown",
   "metadata": {
    "id": "TcDD8pz7ZV2W"
   },
   "source": [
    " The dataset is available on google drive and can be accessed by following the link below\n",
    " https://drive.google.com/drive/folders/1mQb08oG0IujOFR0w9JYHtVX8V5jZGVuk?usp=sharing"
   ]
  },
  {
   "cell_type": "code",
   "execution_count": null,
   "metadata": {
    "id": "K5ranNj65sYP"
   },
   "outputs": [],
   "source": [
    "import numpy as np\n",
    "import tensorflow as tf\n",
    "import matplotlib.pyplot as plt\n",
    "from tensorflow.keras.preprocessing import image\n",
    "from tensorflow.keras.preprocessing.image import ImageDataGenerator\n",
    "from tensorflow.keras.layers import Dense\n",
    "from tensorflow.keras.models import Model\n",
    "from tensorflow.keras.optimizers import Adam\n",
    "from tensorflow.keras.metrics import categorical_crossentropy\n",
    "from sklearn.metrics import confusion_matrix\n",
    "import itertools\n",
    "import time"
   ]
  },
  {
   "cell_type": "markdown",
   "metadata": {
    "id": "Kb7ftliN6cDt"
   },
   "source": [
    "# Build a model based on monileNet"
   ]
  },
  {
   "cell_type": "code",
   "execution_count": null,
   "metadata": {
    "colab": {
     "base_uri": "https://localhost:8080/"
    },
    "executionInfo": {
     "elapsed": 2791,
     "status": "ok",
     "timestamp": 1685974630581,
     "user": {
      "displayName": "Hamed Mohammadi",
      "userId": "07944765270546395104"
     },
     "user_tz": -210
    },
    "id": "6NCtSjNG6VRF",
    "outputId": "48818c43-c2fb-488e-c8e9-be4600614c18"
   },
   "outputs": [
    {
     "name": "stdout",
     "output_type": "stream",
     "text": [
      "Downloading data from https://storage.googleapis.com/tensorflow/keras-applications/mobilenet/mobilenet_1_0_224_tf.h5\n",
      "17225924/17225924 [==============================] - 0s 0us/step\n",
      "Model: \"model\"\n",
      "_________________________________________________________________\n",
      " Layer (type)                Output Shape              Param #   \n",
      "=================================================================\n",
      " input_1 (InputLayer)        [(None, 224, 224, 3)]     0         \n",
      "                                                                 \n",
      " conv1 (Conv2D)              (None, 112, 112, 32)      864       \n",
      "                                                                 \n",
      " conv1_bn (BatchNormalizatio  (None, 112, 112, 32)     128       \n",
      " n)                                                              \n",
      "                                                                 \n",
      " conv1_relu (ReLU)           (None, 112, 112, 32)      0         \n",
      "                                                                 \n",
      " conv_dw_1 (DepthwiseConv2D)  (None, 112, 112, 32)     288       \n",
      "                                                                 \n",
      " conv_dw_1_bn (BatchNormaliz  (None, 112, 112, 32)     128       \n",
      " ation)                                                          \n",
      "                                                                 \n",
      " conv_dw_1_relu (ReLU)       (None, 112, 112, 32)      0         \n",
      "                                                                 \n",
      " conv_pw_1 (Conv2D)          (None, 112, 112, 64)      2048      \n",
      "                                                                 \n",
      " conv_pw_1_bn (BatchNormaliz  (None, 112, 112, 64)     256       \n",
      " ation)                                                          \n",
      "                                                                 \n",
      " conv_pw_1_relu (ReLU)       (None, 112, 112, 64)      0         \n",
      "                                                                 \n",
      " conv_pad_2 (ZeroPadding2D)  (None, 113, 113, 64)      0         \n",
      "                                                                 \n",
      " conv_dw_2 (DepthwiseConv2D)  (None, 56, 56, 64)       576       \n",
      "                                                                 \n",
      " conv_dw_2_bn (BatchNormaliz  (None, 56, 56, 64)       256       \n",
      " ation)                                                          \n",
      "                                                                 \n",
      " conv_dw_2_relu (ReLU)       (None, 56, 56, 64)        0         \n",
      "                                                                 \n",
      " conv_pw_2 (Conv2D)          (None, 56, 56, 128)       8192      \n",
      "                                                                 \n",
      " conv_pw_2_bn (BatchNormaliz  (None, 56, 56, 128)      512       \n",
      " ation)                                                          \n",
      "                                                                 \n",
      " conv_pw_2_relu (ReLU)       (None, 56, 56, 128)       0         \n",
      "                                                                 \n",
      " conv_dw_3 (DepthwiseConv2D)  (None, 56, 56, 128)      1152      \n",
      "                                                                 \n",
      " conv_dw_3_bn (BatchNormaliz  (None, 56, 56, 128)      512       \n",
      " ation)                                                          \n",
      "                                                                 \n",
      " conv_dw_3_relu (ReLU)       (None, 56, 56, 128)       0         \n",
      "                                                                 \n",
      " conv_pw_3 (Conv2D)          (None, 56, 56, 128)       16384     \n",
      "                                                                 \n",
      " conv_pw_3_bn (BatchNormaliz  (None, 56, 56, 128)      512       \n",
      " ation)                                                          \n",
      "                                                                 \n",
      " conv_pw_3_relu (ReLU)       (None, 56, 56, 128)       0         \n",
      "                                                                 \n",
      " conv_pad_4 (ZeroPadding2D)  (None, 57, 57, 128)       0         \n",
      "                                                                 \n",
      " conv_dw_4 (DepthwiseConv2D)  (None, 28, 28, 128)      1152      \n",
      "                                                                 \n",
      " conv_dw_4_bn (BatchNormaliz  (None, 28, 28, 128)      512       \n",
      " ation)                                                          \n",
      "                                                                 \n",
      " conv_dw_4_relu (ReLU)       (None, 28, 28, 128)       0         \n",
      "                                                                 \n",
      " conv_pw_4 (Conv2D)          (None, 28, 28, 256)       32768     \n",
      "                                                                 \n",
      " conv_pw_4_bn (BatchNormaliz  (None, 28, 28, 256)      1024      \n",
      " ation)                                                          \n",
      "                                                                 \n",
      " conv_pw_4_relu (ReLU)       (None, 28, 28, 256)       0         \n",
      "                                                                 \n",
      " conv_dw_5 (DepthwiseConv2D)  (None, 28, 28, 256)      2304      \n",
      "                                                                 \n",
      " conv_dw_5_bn (BatchNormaliz  (None, 28, 28, 256)      1024      \n",
      " ation)                                                          \n",
      "                                                                 \n",
      " conv_dw_5_relu (ReLU)       (None, 28, 28, 256)       0         \n",
      "                                                                 \n",
      " conv_pw_5 (Conv2D)          (None, 28, 28, 256)       65536     \n",
      "                                                                 \n",
      " conv_pw_5_bn (BatchNormaliz  (None, 28, 28, 256)      1024      \n",
      " ation)                                                          \n",
      "                                                                 \n",
      " conv_pw_5_relu (ReLU)       (None, 28, 28, 256)       0         \n",
      "                                                                 \n",
      " conv_pad_6 (ZeroPadding2D)  (None, 29, 29, 256)       0         \n",
      "                                                                 \n",
      " conv_dw_6 (DepthwiseConv2D)  (None, 14, 14, 256)      2304      \n",
      "                                                                 \n",
      " conv_dw_6_bn (BatchNormaliz  (None, 14, 14, 256)      1024      \n",
      " ation)                                                          \n",
      "                                                                 \n",
      " conv_dw_6_relu (ReLU)       (None, 14, 14, 256)       0         \n",
      "                                                                 \n",
      " conv_pw_6 (Conv2D)          (None, 14, 14, 512)       131072    \n",
      "                                                                 \n",
      " conv_pw_6_bn (BatchNormaliz  (None, 14, 14, 512)      2048      \n",
      " ation)                                                          \n",
      "                                                                 \n",
      " conv_pw_6_relu (ReLU)       (None, 14, 14, 512)       0         \n",
      "                                                                 \n",
      " conv_dw_7 (DepthwiseConv2D)  (None, 14, 14, 512)      4608      \n",
      "                                                                 \n",
      " conv_dw_7_bn (BatchNormaliz  (None, 14, 14, 512)      2048      \n",
      " ation)                                                          \n",
      "                                                                 \n",
      " conv_dw_7_relu (ReLU)       (None, 14, 14, 512)       0         \n",
      "                                                                 \n",
      " conv_pw_7 (Conv2D)          (None, 14, 14, 512)       262144    \n",
      "                                                                 \n",
      " conv_pw_7_bn (BatchNormaliz  (None, 14, 14, 512)      2048      \n",
      " ation)                                                          \n",
      "                                                                 \n",
      " conv_pw_7_relu (ReLU)       (None, 14, 14, 512)       0         \n",
      "                                                                 \n",
      " conv_dw_8 (DepthwiseConv2D)  (None, 14, 14, 512)      4608      \n",
      "                                                                 \n",
      " conv_dw_8_bn (BatchNormaliz  (None, 14, 14, 512)      2048      \n",
      " ation)                                                          \n",
      "                                                                 \n",
      " conv_dw_8_relu (ReLU)       (None, 14, 14, 512)       0         \n",
      "                                                                 \n",
      " conv_pw_8 (Conv2D)          (None, 14, 14, 512)       262144    \n",
      "                                                                 \n",
      " conv_pw_8_bn (BatchNormaliz  (None, 14, 14, 512)      2048      \n",
      " ation)                                                          \n",
      "                                                                 \n",
      " conv_pw_8_relu (ReLU)       (None, 14, 14, 512)       0         \n",
      "                                                                 \n",
      " conv_dw_9 (DepthwiseConv2D)  (None, 14, 14, 512)      4608      \n",
      "                                                                 \n",
      " conv_dw_9_bn (BatchNormaliz  (None, 14, 14, 512)      2048      \n",
      " ation)                                                          \n",
      "                                                                 \n",
      " conv_dw_9_relu (ReLU)       (None, 14, 14, 512)       0         \n",
      "                                                                 \n",
      " conv_pw_9 (Conv2D)          (None, 14, 14, 512)       262144    \n",
      "                                                                 \n",
      " conv_pw_9_bn (BatchNormaliz  (None, 14, 14, 512)      2048      \n",
      " ation)                                                          \n",
      "                                                                 \n",
      " conv_pw_9_relu (ReLU)       (None, 14, 14, 512)       0         \n",
      "                                                                 \n",
      " conv_dw_10 (DepthwiseConv2D  (None, 14, 14, 512)      4608      \n",
      " )                                                               \n",
      "                                                                 \n",
      " conv_dw_10_bn (BatchNormali  (None, 14, 14, 512)      2048      \n",
      " zation)                                                         \n",
      "                                                                 \n",
      " conv_dw_10_relu (ReLU)      (None, 14, 14, 512)       0         \n",
      "                                                                 \n",
      " conv_pw_10 (Conv2D)         (None, 14, 14, 512)       262144    \n",
      "                                                                 \n",
      " conv_pw_10_bn (BatchNormali  (None, 14, 14, 512)      2048      \n",
      " zation)                                                         \n",
      "                                                                 \n",
      " conv_pw_10_relu (ReLU)      (None, 14, 14, 512)       0         \n",
      "                                                                 \n",
      " conv_dw_11 (DepthwiseConv2D  (None, 14, 14, 512)      4608      \n",
      " )                                                               \n",
      "                                                                 \n",
      " conv_dw_11_bn (BatchNormali  (None, 14, 14, 512)      2048      \n",
      " zation)                                                         \n",
      "                                                                 \n",
      " conv_dw_11_relu (ReLU)      (None, 14, 14, 512)       0         \n",
      "                                                                 \n",
      " conv_pw_11 (Conv2D)         (None, 14, 14, 512)       262144    \n",
      "                                                                 \n",
      " conv_pw_11_bn (BatchNormali  (None, 14, 14, 512)      2048      \n",
      " zation)                                                         \n",
      "                                                                 \n",
      " conv_pw_11_relu (ReLU)      (None, 14, 14, 512)       0         \n",
      "                                                                 \n",
      " conv_pad_12 (ZeroPadding2D)  (None, 15, 15, 512)      0         \n",
      "                                                                 \n",
      " conv_dw_12 (DepthwiseConv2D  (None, 7, 7, 512)        4608      \n",
      " )                                                               \n",
      "                                                                 \n",
      " conv_dw_12_bn (BatchNormali  (None, 7, 7, 512)        2048      \n",
      " zation)                                                         \n",
      "                                                                 \n",
      " conv_dw_12_relu (ReLU)      (None, 7, 7, 512)         0         \n",
      "                                                                 \n",
      " conv_pw_12 (Conv2D)         (None, 7, 7, 1024)        524288    \n",
      "                                                                 \n",
      " conv_pw_12_bn (BatchNormali  (None, 7, 7, 1024)       4096      \n",
      " zation)                                                         \n",
      "                                                                 \n",
      " conv_pw_12_relu (ReLU)      (None, 7, 7, 1024)        0         \n",
      "                                                                 \n",
      " conv_dw_13 (DepthwiseConv2D  (None, 7, 7, 1024)       9216      \n",
      " )                                                               \n",
      "                                                                 \n",
      " conv_dw_13_bn (BatchNormali  (None, 7, 7, 1024)       4096      \n",
      " zation)                                                         \n",
      "                                                                 \n",
      " conv_dw_13_relu (ReLU)      (None, 7, 7, 1024)        0         \n",
      "                                                                 \n",
      " conv_pw_13 (Conv2D)         (None, 7, 7, 1024)        1048576   \n",
      "                                                                 \n",
      " conv_pw_13_bn (BatchNormali  (None, 7, 7, 1024)       4096      \n",
      " zation)                                                         \n",
      "                                                                 \n",
      " conv_pw_13_relu (ReLU)      (None, 7, 7, 1024)        0         \n",
      "                                                                 \n",
      " global_average_pooling2d (G  (None, 1, 1, 1024)       0         \n",
      " lobalAveragePooling2D)                                          \n",
      "                                                                 \n",
      " dropout (Dropout)           (None, 1, 1, 1024)        0         \n",
      "                                                                 \n",
      " conv_preds (Conv2D)         (None, 1, 1, 1000)        1025000   \n",
      "                                                                 \n",
      " reshape_2 (Reshape)         (None, 1000)              0         \n",
      "                                                                 \n",
      " dense (Dense)               (None, 2)                 2002      \n",
      "                                                                 \n",
      "=================================================================\n",
      "Total params: 4,255,866\n",
      "Trainable params: 2,884,026\n",
      "Non-trainable params: 1,371,840\n",
      "_________________________________________________________________\n"
     ]
    }
   ],
   "source": [
    "# create an object from MobileNet class\n",
    "mobile = tf.keras.applications.mobilenet.MobileNet()\n",
    "\n",
    "# you can check the model structure by running this code\n",
    "# mobile.summary()\n",
    "\n",
    "# adjust the model for the desired application\n",
    "x = mobile.layers[-2].output # remove the last layer\n",
    "output = Dense(units=2, activation='softmax')(x) # add a fully connected layer with output shape of 2\n",
    "model = Model(inputs=mobile.input, outputs=output) # build the model\n",
    "\n",
    "# make some layers non-trainable\n",
    "for layer in model.layers[:-22]:\n",
    "    layer.trainable = False\n",
    "\n",
    "# compile the model with adam optimizer \n",
    "# learning rate = 0.0001\n",
    "model.compile(optimizer=Adam(learning_rate=0.0001), loss='categorical_crossentropy', metrics=['accuracy'])\n",
    "\n",
    "model.summary()"
   ]
  },
  {
   "cell_type": "markdown",
   "metadata": {
    "id": "8pX8RV2iUPVp"
   },
   "source": [
    "# Data preparation"
   ]
  },
  {
   "cell_type": "code",
   "execution_count": null,
   "metadata": {
    "colab": {
     "base_uri": "https://localhost:8080/"
    },
    "executionInfo": {
     "elapsed": 2917,
     "status": "ok",
     "timestamp": 1685974633490,
     "user": {
      "displayName": "Hamed Mohammadi",
      "userId": "07944765270546395104"
     },
     "user_tz": -210
    },
    "id": "7W99EmjQSPYK",
    "outputId": "dd4d165b-0b77-4f14-bd94-77e2a38ed7f9"
   },
   "outputs": [
    {
     "name": "stdout",
     "output_type": "stream",
     "text": [
      "Found 209 images belonging to 2 classes.\n",
      "Found 60 images belonging to 2 classes.\n"
     ]
    }
   ],
   "source": [
    "train_path = '/content/drive/MyDrive/Colab_Notebooks/covid_19/personal_model/personal_dataset/train'\n",
    "valid_path = '/content/drive/MyDrive/Colab_Notebooks/covid_19/personal_model/personal_dataset/valid'\n",
    "\n",
    "# prepare train samples (209 samples in 2 classes)\n",
    "train_batches = ImageDataGenerator(\n",
    "    preprocessing_function=tf.keras.applications.mobilenet.preprocess_input\n",
    "    ).flow_from_directory(\n",
    "    directory=train_path,\n",
    "    target_size=(224, 224),\n",
    "    batch_size=10)\n",
    "\n",
    "# prepare validation samples (60 samples in 2 classes)\n",
    "valid_batches = ImageDataGenerator(\n",
    "    preprocessing_function=tf.keras.applications.mobilenet.preprocess_input\n",
    "    ).flow_from_directory(\n",
    "    directory=valid_path, \n",
    "    target_size=(224,224), \n",
    "    batch_size=10)\n"
   ]
  },
  {
   "cell_type": "markdown",
   "metadata": {
    "id": "RP3i0LIGdepV"
   },
   "source": [
    "# Train(fit) the mode\n",
    "Time library is used to measure train time\n",
    "\n",
    "Number of epoches is set experimentally"
   ]
  },
  {
   "cell_type": "code",
   "execution_count": null,
   "metadata": {
    "colab": {
     "base_uri": "https://localhost:8080/"
    },
    "executionInfo": {
     "elapsed": 746071,
     "status": "ok",
     "timestamp": 1685975440010,
     "user": {
      "displayName": "Hamed Mohammadi",
      "userId": "07944765270546395104"
     },
     "user_tz": -210
    },
    "id": "GXdGSvI6dn1k",
    "outputId": "43126718-9817-481d-b4f7-01948b9d3b25"
   },
   "outputs": [
    {
     "name": "stdout",
     "output_type": "stream",
     "text": [
      "Epoch 1/20\n",
      "21/21 - 100s - loss: 0.1929 - accuracy: 0.9474 - val_loss: 0.0360 - val_accuracy: 0.9833 - 100s/epoch - 5s/step\n",
      "Epoch 2/20\n",
      "21/21 - 27s - loss: 0.1484 - accuracy: 0.9856 - val_loss: 0.1524 - val_accuracy: 0.9500 - 27s/epoch - 1s/step\n",
      "Epoch 3/20\n",
      "21/21 - 29s - loss: 0.0138 - accuracy: 0.9904 - val_loss: 0.1637 - val_accuracy: 0.9667 - 29s/epoch - 1s/step\n",
      "Epoch 4/20\n",
      "21/21 - 30s - loss: 0.0032 - accuracy: 1.0000 - val_loss: 0.4734 - val_accuracy: 0.8833 - 30s/epoch - 1s/step\n",
      "Epoch 5/20\n",
      "21/21 - 30s - loss: 0.0023 - accuracy: 1.0000 - val_loss: 0.1412 - val_accuracy: 0.9833 - 30s/epoch - 1s/step\n",
      "Epoch 6/20\n",
      "21/21 - 24s - loss: 2.6901e-04 - accuracy: 1.0000 - val_loss: 0.0754 - val_accuracy: 0.9833 - 24s/epoch - 1s/step\n",
      "Epoch 7/20\n",
      "21/21 - 25s - loss: 0.1272 - accuracy: 0.9665 - val_loss: 0.1366 - val_accuracy: 0.9833 - 25s/epoch - 1s/step\n",
      "Epoch 8/20\n",
      "21/21 - 25s - loss: 0.0058 - accuracy: 0.9952 - val_loss: 0.1809 - val_accuracy: 0.9500 - 25s/epoch - 1s/step\n",
      "Epoch 9/20\n",
      "21/21 - 29s - loss: 0.0615 - accuracy: 0.9809 - val_loss: 0.1523 - val_accuracy: 0.9833 - 29s/epoch - 1s/step\n",
      "Epoch 10/20\n",
      "21/21 - 24s - loss: 0.0120 - accuracy: 0.9952 - val_loss: 0.1531 - val_accuracy: 0.9833 - 24s/epoch - 1s/step\n",
      "Epoch 11/20\n",
      "21/21 - 29s - loss: 1.0887e-04 - accuracy: 1.0000 - val_loss: 0.0749 - val_accuracy: 0.9833 - 29s/epoch - 1s/step\n",
      "Epoch 12/20\n",
      "21/21 - 29s - loss: 2.4497e-04 - accuracy: 1.0000 - val_loss: 0.0415 - val_accuracy: 0.9833 - 29s/epoch - 1s/step\n",
      "Epoch 13/20\n",
      "21/21 - 29s - loss: 0.0262 - accuracy: 0.9952 - val_loss: 0.1117 - val_accuracy: 0.9833 - 29s/epoch - 1s/step\n",
      "Epoch 14/20\n",
      "21/21 - 24s - loss: 0.0299 - accuracy: 0.9856 - val_loss: 6.2978e-04 - val_accuracy: 1.0000 - 24s/epoch - 1s/step\n",
      "Epoch 15/20\n",
      "21/21 - 29s - loss: 0.0767 - accuracy: 0.9856 - val_loss: 1.6274e-04 - val_accuracy: 1.0000 - 29s/epoch - 1s/step\n",
      "Epoch 16/20\n",
      "21/21 - 30s - loss: 0.0020 - accuracy: 1.0000 - val_loss: 0.0117 - val_accuracy: 0.9833 - 30s/epoch - 1s/step\n",
      "Epoch 17/20\n",
      "21/21 - 24s - loss: 0.0356 - accuracy: 0.9904 - val_loss: 8.2859e-04 - val_accuracy: 1.0000 - 24s/epoch - 1s/step\n",
      "Epoch 18/20\n",
      "21/21 - 24s - loss: 7.7584e-04 - accuracy: 1.0000 - val_loss: 0.0388 - val_accuracy: 0.9833 - 24s/epoch - 1s/step\n",
      "Epoch 19/20\n",
      "21/21 - 24s - loss: 0.0066 - accuracy: 0.9952 - val_loss: 0.0104 - val_accuracy: 1.0000 - 24s/epoch - 1s/step\n",
      "Epoch 20/20\n",
      "21/21 - 24s - loss: 9.1795e-06 - accuracy: 1.0000 - val_loss: 0.0092 - val_accuracy: 1.0000 - 24s/epoch - 1s/step\n"
     ]
    }
   ],
   "source": [
    "start_time = time.time()\n",
    "\n",
    "results = model.fit(x=train_batches,\n",
    "                    steps_per_epoch=len(train_batches),\n",
    "                    validation_data=valid_batches,\n",
    "                    validation_steps=len(valid_batches),\n",
    "                    epochs=20,\n",
    "                    verbose=2\n",
    "                    )\n",
    "\n",
    "end_time = time.time()\n",
    "train_runtime = end_time - start_time"
   ]
  },
  {
   "cell_type": "code",
   "execution_count": null,
   "metadata": {
    "colab": {
     "base_uri": "https://localhost:8080/"
    },
    "executionInfo": {
     "elapsed": 577,
     "status": "ok",
     "timestamp": 1685975598417,
     "user": {
      "displayName": "Hamed Mohammadi",
      "userId": "07944765270546395104"
     },
     "user_tz": -210
    },
    "id": "XQCAuUSn-LnA",
    "outputId": "bd366177-3a8a-4130-dcb9-ccb7447b3d9f"
   },
   "outputs": [
    {
     "name": "stdout",
     "output_type": "stream",
     "text": [
      "training time :  745.4722301959991 seconds\n"
     ]
    }
   ],
   "source": [
    "print('training time : ',train_runtime, 'seconds')"
   ]
  },
  {
   "cell_type": "code",
   "execution_count": null,
   "metadata": {
    "id": "tOUsJMqe_ikf"
   },
   "outputs": [],
   "source": [
    "# to save the trained model run this\n",
    "# model.save('/content/drive/MyDrive/new_covid19_binary_model')"
   ]
  },
  {
   "cell_type": "markdown",
   "metadata": {
    "id": "m1mlx-BH-2Fp"
   },
   "source": [
    "# Loss and Accuracy figures"
   ]
  },
  {
   "cell_type": "code",
   "execution_count": null,
   "metadata": {
    "colab": {
     "base_uri": "https://localhost:8080/",
     "height": 376
    },
    "executionInfo": {
     "elapsed": 1543,
     "status": "ok",
     "timestamp": 1685977257303,
     "user": {
      "displayName": "Hamed Mohammadi",
      "userId": "07944765270546395104"
     },
     "user_tz": -210
    },
    "id": "nx21XtQS_VqB",
    "outputId": "ded88c54-95b6-4b4b-dc02-1e8f9076c98c"
   },
   "outputs": [
    {
     "data": {
      "image/png": "[encoded data removed]",
      "text/plain": [
       "<Figure size 1500x500 with 2 Axes>"
      ]
     },
     "metadata": {},
     "output_type": "display_data"
    }
   ],
   "source": [
    "# Plot the accuracy and loss graphs\n",
    "import matplotlib.pyplot as plt\n",
    "\n",
    "def plot_acc_loss(result, epochs):\n",
    "    acc = result.history['accuracy']\n",
    "    loss = result.history['loss']\n",
    "    val_acc = result.history['val_accuracy']\n",
    "    val_loss = result.history['val_loss']\n",
    "    plt.figure(figsize=(15, 5))\n",
    "    plt.subplot(121)\n",
    "    plt.plot(range(1,epochs), acc[1:], label='Train_acc')\n",
    "    plt.plot(range(1,epochs), val_acc[1:], label='Val_acc')\n",
    "    plt.title('Accuracy over ' + str(epochs) + ' Epochs', size=15)\n",
    "    plt.legend()\n",
    "    plt.grid(True)\n",
    "    plt.xticks([1, 5, 10, 15, 20])\n",
    "    plt.subplot(122)\n",
    "    plt.plot(range(1,epochs), loss[1:], label='Train_loss')\n",
    "    plt.plot(range(1,epochs), val_loss[1:], label='Val_loss')\n",
    "    plt.title('Loss over ' + str(epochs) + ' Epochs', size=15)\n",
    "    plt.legend()\n",
    "    plt.grid(True)\n",
    "    plt.xticks([1, 5, 10, 15, 20])\n",
    "    plt.show()\n",
    "    \n",
    "plot_acc_loss(results, 20)"
   ]
  }
 ],
 "metadata": {
  "colab": {
   "authorship_tag": "ABX9TyNlXeD2QVSZtMMuTFOu0JmQ",
   "collapsed_sections": [
    "Kb7ftliN6cDt",
    "8pX8RV2iUPVp",
    "RP3i0LIGdepV",
    "m1mlx-BH-2Fp"
   ],
   "mount_file_id": "1DIXmu2DaqD8ZBdo8174PMlwR3J7fHMzb",
   "provenance": [],
   "toc_visible": true
  },
  "kernelspec": {
   "display_name": "Python 3",
   "name": "python3"
  },
  "language_info": {
   "name": "python"
  }
 },
 "nbformat": 4,
 "nbformat_minor": 0
}
